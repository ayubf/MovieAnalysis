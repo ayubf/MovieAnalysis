{
 "cells": [
  {
   "cell_type": "code",
   "execution_count": null,
   "id": "3afa10f3",
   "metadata": {},
   "outputs": [],
   "source": []
  },
  {
   "cell_type": "markdown",
   "id": "cb9dd2b8",
   "metadata": {},
   "source": [
    "# Analysis on MovieLens Data\n",
    "\n",
    "In this notebook, we explore the MovieLens latest small dataset to understand patterns in movie ratings, genres, and rater behavior. \n",
    "\n",
    "Dataset: [MovieLens Latest Small](https://grouplens.org/datasets/movielens/latest/)\n",
    "\n",
    "## Questions We Will Answer\n",
    "\n",
    "1. **Raters and movies by the numbers**\n",
    "   - How many raters are there?\n",
    "   - How many movies have been rated?\n",
    "\n",
    "2. **Questions about genres**\n",
    "   - What are the most common movie genres?\n",
    "   - What is the average rating per genre?\n",
    "   - What is the average variance per genre?\n",
    "\n",
    "3. **Movie ratings through the years**\n",
    "   - Which years had the most movies released?\n",
    "   - What is the average movie rating per year?\n",
    "\n",
    "4. **About the raters**\n",
    "   - Which raters give the highest ratings on average? Which give the lowest?\n",
    "   - Do raters who rate movies more often give higher or lower ratings on average?\n"
   ]
  },
  {
   "cell_type": "code",
   "execution_count": 29,
   "id": "5e51941f-a8ee-433a-a81a-e48d3e851ba4",
   "metadata": {},
   "outputs": [],
   "source": [
    "import pandas as pd\n",
    "import numpy as np\n",
    "\n",
    "ratings = pd.read_csv(\"ratings.csv\")\n",
    "movies = pd.read_csv(\"movies.csv\")\n",
    "\n",
    "movies[\"genres\"] = movies[\"genres\"].str.split(\"|\")\n",
    "movies[\"year\"]=  (\n",
    "    movies[\"title\"]\n",
    "    .str.extract(r\"\\((\\d{4})\\)\")\n",
    "    .astype(\"float\")\n",
    "    .astype(\"Int64\")\n",
    ")\n",
    "ratings_with_genres = pd.merge(\n",
    "    ratings, \n",
    "    movies[[\"movieId\", \"genres\", \"year\"]], \n",
    "    on=\"movieId\", \n",
    "    how=\"left\"\n",
    ")"
   ]
  },
  {
   "cell_type": "code",
   "execution_count": 30,
   "id": "0b671c06-e19a-496e-8232-0463f0ee77a8",
   "metadata": {},
   "outputs": [
    {
     "name": "stdout",
     "output_type": "stream",
     "text": [
      "Number of unique users: 610\n"
     ]
    }
   ],
   "source": [
    "print(f\"Number of unique users: {ratings[\"userId\"].nunique()}\")"
   ]
  },
  {
   "cell_type": "code",
   "execution_count": 31,
   "id": "824c623a-1b0a-4a4c-94a7-7f3a937443c6",
   "metadata": {},
   "outputs": [
    {
     "name": "stdout",
     "output_type": "stream",
     "text": [
      "Most common genres: genres\n",
      "Drama                 4361\n",
      "Comedy                3756\n",
      "Thriller              1894\n",
      "Action                1828\n",
      "Romance               1596\n",
      "Adventure             1263\n",
      "Crime                 1199\n",
      "Sci-Fi                 980\n",
      "Horror                 978\n",
      "Fantasy                779\n",
      "Children               664\n",
      "Animation              611\n",
      "Mystery                573\n",
      "Documentary            440\n",
      "War                    382\n",
      "Musical                334\n",
      "Western                167\n",
      "IMAX                   158\n",
      "Film-Noir               87\n",
      "(no genres listed)      34\n",
      "Name: genres, dtype: int64\n"
     ]
    }
   ],
   "source": [
    "print(f\"Most common genres: {movies.explode(\"genres\").groupby(\"genres\").genres.count().sort_values(ascending=False)}\")"
   ]
  },
  {
   "cell_type": "code",
   "execution_count": 32,
   "id": "f1a6eb1d-3967-4009-a6f0-236ce04eb555",
   "metadata": {},
   "outputs": [
    {
     "name": "stdout",
     "output_type": "stream",
     "text": [
      "Average rating per genre: genres\n",
      "Film-Noir             3.920115\n",
      "War                   3.808294\n",
      "Documentary           3.797785\n",
      "Crime                 3.658294\n",
      "Drama                 3.656184\n",
      "Mystery               3.632460\n",
      "Animation             3.629937\n",
      "IMAX                  3.618335\n",
      "Western               3.583938\n",
      "Musical               3.563678\n",
      "Adventure             3.508609\n",
      "Romance               3.506511\n",
      "Thriller              3.493706\n",
      "Fantasy               3.491001\n",
      "(no genres listed)    3.489362\n",
      "Sci-Fi                3.455721\n",
      "Action                3.447984\n",
      "Children              3.412956\n",
      "Comedy                3.384721\n",
      "Horror                3.258195\n",
      "Name: rating, dtype: float64\n"
     ]
    }
   ],
   "source": [
    "print(f\"Average rating per genre: {ratings_with_genres.explode(\"genres\").groupby(\"genres\")['rating'].mean().sort_values(ascending=False)}\")"
   ]
  },
  {
   "cell_type": "code",
   "execution_count": 33,
   "id": "65e98113-b625-4180-bb04-0e1fa4de695a",
   "metadata": {},
   "outputs": [
    {
     "name": "stdout",
     "output_type": "stream",
     "text": [
      "Average variance in ratings per genre: genres\n",
      "(no genres listed)    1.483580\n",
      "Horror                1.305514\n",
      "Sci-Fi                1.147746\n",
      "Comedy                1.137509\n",
      "Children              1.115128\n",
      "Action                1.104455\n",
      "Fantasy               1.078872\n",
      "Adventure             1.058990\n",
      "Thriller              1.051442\n",
      "Romance               1.047411\n",
      "Western               1.024314\n",
      "Mystery               1.012590\n",
      "Crime                 0.989375\n",
      "Musical               0.978601\n",
      "IMAX                  0.976401\n",
      "Drama                 0.958701\n",
      "War                   0.957529\n",
      "Animation             0.940249\n",
      "Film-Noir             0.786764\n",
      "Documentary           0.673156\n",
      "Name: rating, dtype: float64\n"
     ]
    }
   ],
   "source": [
    "print(f\"Average variance in ratings per genre: {ratings_with_genres.explode(\"genres\").groupby(\"genres\")[\"rating\"].var().sort_values(ascending=False)}\")"
   ]
  },
  {
   "cell_type": "code",
   "execution_count": 34,
   "id": "a86af1cd-c84c-42ea-be06-4ced7db587bd",
   "metadata": {},
   "outputs": [
    {
     "name": "stdout",
     "output_type": "stream",
     "text": [
      "Top 10 years with the most movies released: year\n",
      "2002    311\n",
      "2006    295\n",
      "2001    294\n",
      "2007    284\n",
      "2000    283\n",
      "2009    282\n",
      "2004    279\n",
      "2003    279\n",
      "2014    278\n",
      "1996    276\n",
      "Name: year, dtype: Int64\n"
     ]
    }
   ],
   "source": [
    "print(f\"Top 10 years with the most movies released: {movies.groupby(\"year\").year.count().sort_values(ascending=False).head(10)}\")"
   ]
  },
  {
   "cell_type": "code",
   "execution_count": 35,
   "id": "5ecca534-3c42-4cdc-b539-b1fb109c0721",
   "metadata": {},
   "outputs": [
    {
     "name": "stdout",
     "output_type": "stream",
     "text": [
      "Average rating per year: year\n",
      "1917    4.500000\n",
      "1930    4.205882\n",
      "1921    4.100000\n",
      "1934    4.088235\n",
      "1944    4.043478\n",
      "          ...   \n",
      "1996    3.335329\n",
      "1932    3.333333\n",
      "1903    2.500000\n",
      "1919    2.000000\n",
      "1915    2.000000\n",
      "Name: rating, Length: 106, dtype: float64\n"
     ]
    }
   ],
   "source": [
    "print(f\"Average rating per year: {ratings_with_genres.groupby(\"year\").rating.mean().sort_values(ascending=False)}\")"
   ]
  },
  {
   "cell_type": "code",
   "execution_count": 36,
   "id": "bbc73534-f0fc-480f-ac24-54f99a26f59e",
   "metadata": {},
   "outputs": [
    {
     "name": "stdout",
     "output_type": "stream",
     "text": [
      "Top 10 harshest raters: userId\n",
      "442    1.275000\n",
      "139    2.144330\n",
      "508    2.145833\n",
      "153    2.217877\n",
      "567    2.245455\n",
      "311    2.339286\n",
      "298    2.363685\n",
      "517    2.386250\n",
      "308    2.426087\n",
      "3      2.435897\n",
      "Name: rating, dtype: float64\n",
      "Top 10 most generous raters: userId\n",
      "53     5.000000\n",
      "251    4.869565\n",
      "515    4.846154\n",
      "25     4.807692\n",
      "30     4.735294\n",
      "523    4.693333\n",
      "348    4.672727\n",
      "171    4.634146\n",
      "452    4.556931\n",
      "43     4.552632\n",
      "Name: rating, dtype: float64\n"
     ]
    }
   ],
   "source": [
    "# Users with the highest and lowest ratings\n",
    "rating_per_user = ratings_with_genres.groupby(\"userId\").rating\n",
    "avg_rating_per_user = rating_per_user.mean()\n",
    "print(f\"Top 10 harshest raters: {avg_rating_per_user.sort_values().head(10)}\") \n",
    "print(f\"Top 10 most generous raters: {avg_rating_per_user.sort_values(ascending=False).head(10)}\") "
   ]
  },
  {
   "cell_type": "code",
   "execution_count": 37,
   "id": "497a4655-2100-4c1f-9efe-664fd4cf3d18",
   "metadata": {},
   "outputs": [
    {
     "name": "stdout",
     "output_type": "stream",
     "text": [
      "\n",
      "The correlation between average rating and the number of ratings is -0.09381. \n",
      "There is a very weak negative correlation between a user's average rating and the number of ratings they have given, \n",
      "meaning that higher average ratings are slightly associated with fewer total ratings, but the trend is very small.\n",
      "\n"
     ]
    }
   ],
   "source": [
    "user_info = ratings.groupby(\"userId\").agg(\n",
    "    avg_rating=(\"rating\", \"mean\"),\n",
    "    num_of_ratings=(\"rating\", \"count\")\n",
    ").reset_index()\n",
    "corr_between_ratings_num_of_ratings = user_info[\"avg_rating\"].corr(user_info[\"num_of_ratings\"], method=\"kendall\")\n",
    "print(f\"\"\"\n",
    "The correlation between average rating and the number of ratings is {round(corr_between_ratings_num_of_ratings, 5)}. \n",
    "There is a very weak negative correlation between a user's average rating and the number of ratings they have given, \n",
    "meaning that higher average ratings are slightly associated with fewer total ratings, but the trend is very small.\n",
    "\"\"\")"
   ]
  }
 ],
 "metadata": {
  "kernelspec": {
   "display_name": "Python 3",
   "language": "python",
   "name": "python3"
  },
  "language_info": {
   "codemirror_mode": {
    "name": "ipython",
    "version": 3
   },
   "file_extension": ".py",
   "mimetype": "text/x-python",
   "name": "python",
   "nbconvert_exporter": "python",
   "pygments_lexer": "ipython3",
   "version": "3.13.7"
  }
 },
 "nbformat": 4,
 "nbformat_minor": 5
}
